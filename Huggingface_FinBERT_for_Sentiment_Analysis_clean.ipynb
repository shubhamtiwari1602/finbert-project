{
 "cells": [
  {
   "cell_type": "code",
   "execution_count": 1,
   "metadata": {
    "colab": {
     "base_uri": "https://localhost:8080/"
    },
    "id": "KBv7bRUSBnbX",
    "outputId": "6765b41a-a035-4132-ead0-8f4332e5fecc"
   },
   "outputs": [
    {
     "name": "stdout",
     "output_type": "stream",
     "text": [
      "Downloading from https://www.kaggle.com/api/v1/datasets/download/ankurzing/sentiment-analysis-for-financial-news?dataset_version_number=5...\n"
     ]
    },
    {
     "name": "stderr",
     "output_type": "stream",
     "text": [
      "100%|██████████| 903k/903k [00:00<00:00, 47.7MB/s]"
     ]
    },
    {
     "name": "stdout",
     "output_type": "stream",
     "text": [
      "Extracting files...\n",
      "Data source import complete.\n"
     ]
    },
    {
     "name": "stderr",
     "output_type": "stream",
     "text": [
      "\n"
     ]
    }
   ],
   "source": [
    "# IMPORTANT: RUN THIS CELL IN ORDER TO IMPORT YOUR KAGGLE DATA SOURCES,\n",
    "# THEN FEEL FREE TO DELETE THIS CELL.\n",
    "# NOTE: THIS NOTEBOOK ENVIRONMENT DIFFERS FROM KAGGLE'S PYTHON\n",
    "# ENVIRONMENT SO THERE MAY BE MISSING LIBRARIES USED BY YOUR\n",
    "# NOTEBOOK.\n",
    "import kagglehub\n",
    "ankurzing_sentiment_analysis_for_financial_news_path = kagglehub.dataset_download('ankurzing/sentiment-analysis-for-financial-news')\n",
    "\n",
    "print('Data source import complete.')\n"
   ]
  },
  {
   "cell_type": "markdown",
   "metadata": {
    "id": "bNibKjVgBnbZ"
   },
   "source": [
    "\n",
    "    \n",
    "    \n",
    "In this short notebook I will show how you can use FinBERT easily for sentiment analysis.\n",
    "FinBERT is a pre-trained NLP model to analyze sentiment of financial text. It is built by further training the BERT language model in the finance domain, using a large financial corpus and thereby fine-tuning it for financial sentiment classification.\n",
    "\n",
    "The model will give softmax outputs for three labels: positive, negative or neutral."
   ]
  },
  {
   "cell_type": "markdown",
   "metadata": {
    "id": "IxV4ft1dBnba"
   },
   "source": [
    "# 1 SETUP"
   ]
  },
  {
   "cell_type": "code",
   "execution_count": 2,
   "metadata": {
    "_cell_guid": "b1076dfc-b9ad-4769-8c92-a6c4dae69d19",
    "_uuid": "8f2839f25d086af736a60e9eeb907d3b93b6e0e5",
    "execution": {
     "iopub.execute_input": "2023-11-23T06:51:00.882417Z",
     "iopub.status.busy": "2023-11-23T06:51:00.881889Z",
     "iopub.status.idle": "2023-11-23T06:51:08.766077Z",
     "shell.execute_reply": "2023-11-23T06:51:08.764203Z",
     "shell.execute_reply.started": "2023-11-23T06:51:00.882379Z"
    },
    "id": "uofhkDpCBnbb"
   },
   "outputs": [],
   "source": [
    "import pandas as pd\n",
    "import scipy\n",
    "import seaborn as sns\n",
    "import matplotlib.pyplot as plt\n",
    "from sklearn.metrics import accuracy_score, classification_report, confusion_matrix, roc_auc_score\n",
    "import torch\n",
    "from transformers import AutoTokenizer, AutoModelForSequenceClassification"
   ]
  },
  {
   "cell_type": "markdown",
   "metadata": {
    "id": "hvKOzaMPBnbc"
   },
   "source": [
    "I now read the input file. I will add the column headers, since they are not present in the csv file."
   ]
  },
  {
   "cell_type": "code",
   "execution_count": 4,
   "metadata": {
    "colab": {
     "base_uri": "https://localhost:8080/"
    },
    "execution": {
     "iopub.execute_input": "2023-11-23T06:52:47.498803Z",
     "iopub.status.busy": "2023-11-23T06:52:47.497141Z",
     "iopub.status.idle": "2023-11-23T06:52:47.57835Z",
     "shell.execute_reply": "2023-11-23T06:52:47.5775Z",
     "shell.execute_reply.started": "2023-11-23T06:52:47.49875Z"
    },
    "id": "7a-whLnXBnbc",
    "outputId": "6f2a4a5c-da56-4746-87c6-9557b4d59651"
   },
   "outputs": [
    {
     "name": "stdout",
     "output_type": "stream",
     "text": [
      "Using Colab cache for faster access to the 'sentiment-analysis-for-financial-news' dataset.\n",
      "Dataset downloaded to: /kaggle/input/sentiment-analysis-for-financial-news\n",
      "  Sentiment                                               Text\n",
      "0   neutral  According to Gran , the company has no plans t...\n",
      "1   neutral  Technopolis plans to develop in stages an area...\n",
      "2  negative  The international electronic industry company ...\n",
      "3  positive  With the new production plant the company woul...\n",
      "4  positive  According to the company 's updated strategy f...\n"
     ]
    }
   ],
   "source": [
    "import kagglehub\n",
    "import pandas as pd\n",
    "\n",
    "# Download dataset and get local path\n",
    "dataset_path = kagglehub.dataset_download(\"ankurzing/sentiment-analysis-for-financial-news\")\n",
    "print(\"Dataset downloaded to:\", dataset_path)\n",
    "\n",
    "# Now read the CSV from the correct local path\n",
    "data = pd.read_csv(f\"{dataset_path}/all-data.csv\",\n",
    "                   encoding=\"unicode_escape\",\n",
    "                   names=[\"Sentiment\", \"Text\"])\n",
    "print(data.head())"
   ]
  },
  {
   "cell_type": "code",
   "execution_count": 5,
   "metadata": {
    "colab": {
     "base_uri": "https://localhost:8080/"
    },
    "execution": {
     "iopub.execute_input": "2023-11-23T06:52:53.083435Z",
     "iopub.status.busy": "2023-11-23T06:52:53.082974Z",
     "iopub.status.idle": "2023-11-23T06:52:53.091873Z",
     "shell.execute_reply": "2023-11-23T06:52:53.090582Z",
     "shell.execute_reply.started": "2023-11-23T06:52:53.083401Z"
    },
    "id": "pK0TG73gBnbc",
    "outputId": "346eeedc-785b-43ab-e665-3d026cf03e49"
   },
   "outputs": [
    {
     "data": {
      "text/plain": [
       "(4846, 2)"
      ]
     },
     "execution_count": 5,
     "metadata": {},
     "output_type": "execute_result"
    }
   ],
   "source": [
    "data.shape"
   ]
  },
  {
   "cell_type": "markdown",
   "metadata": {
    "id": "TPp4H4jrBnbd"
   },
   "source": [
    "In total we have 4846 observations for those we can predict the sentiment."
   ]
  },
  {
   "cell_type": "markdown",
   "metadata": {
    "id": "ronaIwfhBnbd"
   },
   "source": [
    "# 2 PREPARATION\n",
    "The first thing we do, is to separate the columns. The `Text` column will be our `X` which we will feed into FinBERT and `Sentiment` is our target in which we are interested, I will safe it into `y`.\n",
    "There is no need to specify a train or testset, we will use the pretrained model directly to predict the sentiment."
   ]
  },
  {
   "cell_type": "code",
   "execution_count": 6,
   "metadata": {
    "execution": {
     "iopub.execute_input": "2023-11-23T06:54:04.959139Z",
     "iopub.status.busy": "2023-11-23T06:54:04.958711Z",
     "iopub.status.idle": "2023-11-23T06:54:04.965473Z",
     "shell.execute_reply": "2023-11-23T06:54:04.964212Z",
     "shell.execute_reply.started": "2023-11-23T06:54:04.959105Z"
    },
    "id": "8WHXDQO3Bnbe"
   },
   "outputs": [],
   "source": [
    "X = data['Text'].to_list()\n",
    "y = data['Sentiment'].to_list()"
   ]
  },
  {
   "cell_type": "markdown",
   "metadata": {
    "id": "sF10ioy0Bnbe"
   },
   "source": [
    "In the next step I will directly download [FinBERT](https://huggingface.co/ProsusAI/finbert) directly from Huggingface."
   ]
  },
  {
   "cell_type": "code",
   "execution_count": 7,
   "metadata": {
    "_kg_hide-output": true,
    "colab": {
     "base_uri": "https://localhost:8080/",
     "height": 336,
     "referenced_widgets": [
      "36a68c6d38c24e77b61662c6336611f0",
      "e30aa3a659c94c14be0ffb06efbb1dde",
      "25112cb06bac4872806e1bcf0e36cd63",
      "c106267a30a54f44ad8baf43960f92bf",
      "dba93dc80303491e8a337959361c8800",
      "56094d1d0e25447b88e0a83558225f7c",
      "b3fde8d1bbb1430bbdf79b8a9441d722",
      "623bb5b231c4471f90cbd2beb15edc94",
      "7ae1e76ee7134732a8e7b814c1f96c1e",
      "c0fc9fae2e5449d9b5c786249cf2eabe",
      "9c5aafef8c5a4bf9a1462d80c6877184",
      "0022d6cbea4d41378f033882d225d833",
      "5fdb45c0d9a244eba6267544d1a123df",
      "9e070f4df8034c79965664bca931532f",
      "16315292ee05481cb90bc0ba5b62e1b8",
      "6870d659502943699713ec588acfcf22",
      "4b64cf2622cb431f8a8ed0583d3fbe01",
      "8fa5bd04b7094255b203251d9914fe88",
      "9090dd8c28bb450c8d5a305333e4c408",
      "397599d786f849fc8030e6a66839d02b",
      "ffbb905e4af5427fa9ba1e0ddbf9a1c8",
      "5a93503c88094f4f9f9dd8f7b1ce4f4f",
      "2cafe37d3d2149d496a45949b9541838",
      "5ed552254e614b25862975136ae9606e",
      "d565442412454243b5744c2838f91538",
      "7546983b814b4ca9b3785c4ccaf4448e",
      "484c6407b42a46f387f8a5d58c0ee90e",
      "c178982bd3c3473982940017c62cbda1",
      "a99293f5939d4be19837f7bd351c50ab",
      "1a4ec3fbceef4363b334093f262cff67",
      "3f7c74a8997d458b96a903cf6dbb88a7",
      "b2a5d5b0cd7c488e9c2db8c6b1f6ccc5",
      "663d48dd4ee54a1eb91503e14cb562dc",
      "62b6d842e9884197905a703003d7b576",
      "0f5eacd1fb014ca5ba739b312ba1e45a",
      "8a8656115c084f8587cdc6a051df1041",
      "e70715ba65d3421ca064f3b52865d95d",
      "d53365486f2c47908cb24e7623cbcadd",
      "874cef2284ae46c0adfad2331358600b",
      "c5408b0c7b6d4d448d6717ae41189b03",
      "6c6b87851091474e8fb5051c0cdcbf62",
      "271a2a104e73404bad2bc402e5bc0a77",
      "702dd2c09dea4e3d98f5785c2e3c08fe",
      "16df0ecacfb246669e00433099d4a854",
      "422ab688d9bc4e0d99ff270a38c7f745",
      "346858f44dad43fea127125a449f4f1b",
      "258d6a57a1464ce9bd94ad3d6be22d82",
      "998ac130b161428b90c887abf394d613",
      "924340209ffb4efabdf3ba38431fb8ae",
      "0108149df1584222b66f074ad6f39879",
      "012af9c46908469fbcc3ff8fa7758b27",
      "fb5fda551aea48569b36c4c43283a2ff",
      "acce917a52e344458bc756ce908344b0",
      "c83e6813fb8241c794686e0edfd96868",
      "3d6d60ded7554f53858d38e92e859798",
      "1691191544ff49a6bb3d6bcf86373b03",
      "e79d316b6c6242258d6fca279db01ff7",
      "6be0ccfedee44d58998e18587565ab08",
      "219deaf3bf4a4af08ac7814cdfa7a77e",
      "ea3c02c1a98243b6826651cbc0f60a6f",
      "62a02ceae76b4a10bf12c783351e8de6",
      "97972e31d810402c85088939f76e3b0f",
      "f3110a005d0d4e60964acf7c35d032d3",
      "fff683f5dd5743cbb485c3db8da30883",
      "3748b5f071644aefb86fa9a7f7e80c29",
      "ff1d719c1a9e46ba8f386e6108932bbe"
     ]
    },
    "execution": {
     "iopub.execute_input": "2023-11-23T06:54:36.624512Z",
     "iopub.status.busy": "2023-11-23T06:54:36.62411Z",
     "iopub.status.idle": "2023-11-23T06:54:43.263466Z",
     "shell.execute_reply": "2023-11-23T06:54:43.262227Z",
     "shell.execute_reply.started": "2023-11-23T06:54:36.624483Z"
    },
    "id": "rzYdi5vpBnbe",
    "outputId": "299c241e-204f-419d-e8c8-ad71dfb9966f"
   },
   "outputs": [
    {
     "name": "stderr",
     "output_type": "stream",
     "text": [
      "/usr/local/lib/python3.12/dist-packages/huggingface_hub/utils/_auth.py:94: UserWarning: \n",
      "The secret `HF_TOKEN` does not exist in your Colab secrets.\n",
      "To authenticate with the Hugging Face Hub, create a token in your settings tab (https://huggingface.co/settings/tokens), set it as secret in your Google Colab and restart your session.\n",
      "You will be able to reuse this secret in all of your notebooks.\n",
      "Please note that authentication is recommended but still optional to access public models or datasets.\n",
      "  warnings.warn(\n"
     ]
    },
    {
     "data": {
      "application/vnd.jupyter.widget-view+json": {
       "model_id": "36a68c6d38c24e77b61662c6336611f0",
       "version_major": 2,
       "version_minor": 0
      },
      "text/plain": [
       "tokenizer_config.json:   0%|          | 0.00/252 [00:00<?, ?B/s]"
      ]
     },
     "metadata": {},
     "output_type": "display_data"
    },
    {
     "data": {
      "application/vnd.jupyter.widget-view+json": {
       "model_id": "0022d6cbea4d41378f033882d225d833",
       "version_major": 2,
       "version_minor": 0
      },
      "text/plain": [
       "config.json:   0%|          | 0.00/758 [00:00<?, ?B/s]"
      ]
     },
     "metadata": {},
     "output_type": "display_data"
    },
    {
     "data": {
      "application/vnd.jupyter.widget-view+json": {
       "model_id": "2cafe37d3d2149d496a45949b9541838",
       "version_major": 2,
       "version_minor": 0
      },
      "text/plain": [
       "vocab.txt: 0.00B [00:00, ?B/s]"
      ]
     },
     "metadata": {},
     "output_type": "display_data"
    },
    {
     "data": {
      "application/vnd.jupyter.widget-view+json": {
       "model_id": "62b6d842e9884197905a703003d7b576",
       "version_major": 2,
       "version_minor": 0
      },
      "text/plain": [
       "special_tokens_map.json:   0%|          | 0.00/112 [00:00<?, ?B/s]"
      ]
     },
     "metadata": {},
     "output_type": "display_data"
    },
    {
     "data": {
      "application/vnd.jupyter.widget-view+json": {
       "model_id": "422ab688d9bc4e0d99ff270a38c7f745",
       "version_major": 2,
       "version_minor": 0
      },
      "text/plain": [
       "pytorch_model.bin:   0%|          | 0.00/438M [00:00<?, ?B/s]"
      ]
     },
     "metadata": {},
     "output_type": "display_data"
    },
    {
     "data": {
      "application/vnd.jupyter.widget-view+json": {
       "model_id": "1691191544ff49a6bb3d6bcf86373b03",
       "version_major": 2,
       "version_minor": 0
      },
      "text/plain": [
       "model.safetensors:   0%|          | 0.00/438M [00:00<?, ?B/s]"
      ]
     },
     "metadata": {},
     "output_type": "display_data"
    }
   ],
   "source": [
    "tokenizer = AutoTokenizer.from_pretrained(\"ProsusAI/finbert\")\n",
    "model = AutoModelForSequenceClassification.from_pretrained(\"ProsusAI/finbert\")"
   ]
  },
  {
   "cell_type": "markdown",
   "metadata": {
    "id": "_LOglbl9Bnbe"
   },
   "source": [
    "# 3 PREDICT\n",
    "Finally we are able to loop over the X list and predict for every entry the label. I will safe the predicted label as well as the probability for that class."
   ]
  },
  {
   "cell_type": "code",
   "execution_count": 8,
   "metadata": {
    "execution": {
     "iopub.execute_input": "2023-11-23T06:55:52.808642Z",
     "iopub.status.busy": "2023-11-23T06:55:52.807889Z",
     "iopub.status.idle": "2023-11-23T07:02:59.966105Z",
     "shell.execute_reply": "2023-11-23T07:02:59.964976Z",
     "shell.execute_reply.started": "2023-11-23T06:55:52.8086Z"
    },
    "id": "P9eIltXUBnbf"
   },
   "outputs": [],
   "source": [
    "preds = []\n",
    "preds_proba = []\n",
    "tokenizer_kwargs = {\"padding\": True, \"truncation\": True, \"max_length\": 512}\n",
    "for x in X:\n",
    "    with torch.no_grad():\n",
    "        input_sequence = tokenizer(x, return_tensors=\"pt\", **tokenizer_kwargs)\n",
    "        logits = model(**input_sequence).logits\n",
    "        scores = {\n",
    "        k: v\n",
    "        for k, v in zip(\n",
    "            model.config.id2label.values(),\n",
    "            scipy.special.softmax(logits.numpy().squeeze()),\n",
    "        )\n",
    "    }\n",
    "    sentimentFinbert = max(scores, key=scores.get)\n",
    "    probabilityFinbert = max(scores.values())\n",
    "    preds.append(sentimentFinbert)\n",
    "    preds_proba.append(probabilityFinbert)"
   ]
  },
  {
   "cell_type": "markdown",
   "metadata": {
    "id": "YSDhk7p8Bnbf"
   },
   "source": [
    "# 4 EVALUATION\n",
    "Let´s check the performance of our model quick."
   ]
  },
  {
   "cell_type": "code",
   "execution_count": 9,
   "metadata": {
    "colab": {
     "base_uri": "https://localhost:8080/"
    },
    "execution": {
     "iopub.execute_input": "2023-11-23T07:05:29.620141Z",
     "iopub.status.busy": "2023-11-23T07:05:29.619674Z",
     "iopub.status.idle": "2023-11-23T07:05:29.642376Z",
     "shell.execute_reply": "2023-11-23T07:05:29.640901Z",
     "shell.execute_reply.started": "2023-11-23T07:05:29.620105Z"
    },
    "id": "jRpqxMR2Bnbf",
    "outputId": "fe13e511-19c9-4864-8bf6-62895e4f797b"
   },
   "outputs": [
    {
     "name": "stdout",
     "output_type": "stream",
     "text": [
      "Accuracy-Score: 0.8893933140734627\n"
     ]
    }
   ],
   "source": [
    "print(f'Accuracy-Score: {accuracy_score(y, preds)}')"
   ]
  },
  {
   "cell_type": "code",
   "execution_count": 10,
   "metadata": {
    "colab": {
     "base_uri": "https://localhost:8080/"
    },
    "execution": {
     "iopub.execute_input": "2023-11-23T07:05:32.334837Z",
     "iopub.status.busy": "2023-11-23T07:05:32.334376Z",
     "iopub.status.idle": "2023-11-23T07:05:32.419625Z",
     "shell.execute_reply": "2023-11-23T07:05:32.418511Z",
     "shell.execute_reply.started": "2023-11-23T07:05:32.334803Z"
    },
    "id": "MZbvRc_BBnbf",
    "outputId": "96e52f74-ad5d-4de0-f94e-7dc24d354b1a"
   },
   "outputs": [
    {
     "name": "stdout",
     "output_type": "stream",
     "text": [
      "              precision    recall  f1-score   support\n",
      "\n",
      "    negative       0.80      0.97      0.88       604\n",
      "     neutral       0.96      0.86      0.91      2879\n",
      "    positive       0.81      0.92      0.86      1363\n",
      "\n",
      "    accuracy                           0.89      4846\n",
      "   macro avg       0.86      0.92      0.88      4846\n",
      "weighted avg       0.90      0.89      0.89      4846\n",
      "\n"
     ]
    }
   ],
   "source": [
    "print(classification_report(y, preds))"
   ]
  },
  {
   "cell_type": "code",
   "execution_count": 11,
   "metadata": {
    "_kg_hide-input": true,
    "colab": {
     "base_uri": "https://localhost:8080/",
     "height": 853
    },
    "execution": {
     "iopub.execute_input": "2023-11-23T07:06:36.894948Z",
     "iopub.status.busy": "2023-11-23T07:06:36.894437Z",
     "iopub.status.idle": "2023-11-23T07:06:37.266729Z",
     "shell.execute_reply": "2023-11-23T07:06:37.26537Z",
     "shell.execute_reply.started": "2023-11-23T07:06:36.894914Z"
    },
    "id": "8tDyG8VYBnbg",
    "outputId": "65394ea2-d3ca-4ab0-b59b-ef9f0aae123a"
   },
   "outputs": [
    {
     "data": {
      "image/png": "[encoded data removed]",
      "text/plain": [
       "<Figure size 1000x1000 with 2 Axes>"
      ]
     },
     "metadata": {},
     "output_type": "display_data"
    }
   ],
   "source": [
    "cm = confusion_matrix(y, preds)\n",
    "cm_matrix = pd.DataFrame(data=cm)\n",
    "plt.figure(figsize=(10,10))\n",
    "sns.heatmap(cm_matrix, annot=True, cmap='YlGnBu', fmt='d')\n",
    "plt.title('Confusion Matrix')\n",
    "plt.show();"
   ]
  },
  {
   "cell_type": "markdown",
   "metadata": {
    "id": "SFDCCXymBnbg"
   },
   "source": [
    "The output is really good. Around 89% accuracy without any fine-tuning."
   ]
  },
  {
   "cell_type": "markdown",
   "metadata": {
    "id": "_6vwm4pJO1hU"
   },
   "source": [
    "Base LIne Comparison\n"
   ]
  },
  {
   "cell_type": "code",
   "execution_count": 12,
   "metadata": {
    "colab": {
     "base_uri": "https://localhost:8080/"
    },
    "id": "FXJjajkzO1NY",
    "outputId": "43c7702f-adc3-4237-cdc1-8ed42885cde1"
   },
   "outputs": [
    {
     "name": "stdout",
     "output_type": "stream",
     "text": [
      "=== Baseline Logistic Regression ===\n",
      "Accuracy: 0.734020618556701\n",
      "              precision    recall  f1-score   support\n",
      "\n",
      "    negative       0.58      0.69      0.63       121\n",
      "     neutral       0.83      0.78      0.81       576\n",
      "    positive       0.63      0.65      0.64       273\n",
      "\n",
      "    accuracy                           0.73       970\n",
      "   macro avg       0.68      0.71      0.69       970\n",
      "weighted avg       0.74      0.73      0.74       970\n",
      "\n"
     ]
    }
   ],
   "source": [
    "from sklearn.feature_extraction.text import TfidfVectorizer\n",
    "from sklearn.linear_model import LogisticRegression\n",
    "from sklearn.model_selection import train_test_split\n",
    "\n",
    "# Train-test split\n",
    "X_train, X_test, y_train, y_test = train_test_split(data[\"Text\"], data[\"Sentiment\"],\n",
    "                                                    test_size=0.2, random_state=42,\n",
    "                                                    stratify=data[\"Sentiment\"])\n",
    "\n",
    "# TF-IDF\n",
    "vectorizer = TfidfVectorizer(max_features=5000, ngram_range=(1,2))\n",
    "X_train_tfidf = vectorizer.fit_transform(X_train)\n",
    "X_test_tfidf = vectorizer.transform(X_test)\n",
    "\n",
    "# Logistic Regression\n",
    "clf = LogisticRegression(max_iter=200, class_weight=\"balanced\")\n",
    "clf.fit(X_train_tfidf, y_train)\n",
    "baseline_preds = clf.predict(X_test_tfidf)\n",
    "\n",
    "print(\"=== Baseline Logistic Regression ===\")\n",
    "print(\"Accuracy:\", accuracy_score(y_test, baseline_preds))\n",
    "print(classification_report(y_test, baseline_preds))\n"
   ]
  },
  {
   "cell_type": "code",
   "execution_count": 13,
   "metadata": {
    "colab": {
     "base_uri": "https://localhost:8080/",
     "height": 472
    },
    "id": "ny09zYEsO5wn",
    "outputId": "c9e896b4-1e7c-441b-a5af-6ede0fa4a277"
   },
   "outputs": [
    {
     "data": {
      "image/png": "[encoded data removed]",
      "text/plain": [
       "<Figure size 640x480 with 1 Axes>"
      ]
     },
     "metadata": {},
     "output_type": "display_data"
    }
   ],
   "source": [
    "results = pd.DataFrame({\n",
    "    \"Model\": [\"Baseline (TF-IDF + LR)\", \"FinBERT\"],\n",
    "    \"Accuracy\": [\n",
    "        accuracy_score(y_test, baseline_preds),\n",
    "        accuracy_score(y, preds)  # careful: preds used full dataset\n",
    "    ]\n",
    "})\n",
    "\n",
    "sns.barplot(x=\"Model\", y=\"Accuracy\", data=results)\n",
    "plt.title(\"Baseline vs FinBERT Accuracy\")\n",
    "plt.ylim(0,1)\n",
    "plt.show()\n"
   ]
  },
  {
   "cell_type": "code",
   "execution_count": 14,
   "metadata": {
    "colab": {
     "base_uri": "https://localhost:8080/"
    },
    "id": "wfQqZCV4O9Yj",
    "outputId": "35ca77f0-1877-4c36-d3b8-e5782adc3584"
   },
   "outputs": [
    {
     "name": "stdout",
     "output_type": "stream",
     "text": [
      "Text: The company was supposed to deliver machinery to a veneer mill in the Tomsk region , in Russia .\n",
      "True: neutral\n",
      "Predicted: neutral\n",
      "\n",
      "Text: UNC Charlotte would also deploy SSH Tectia Connector to enable secure application connectivity .\n",
      "True: neutral\n",
      "Predicted: neutral\n",
      "\n",
      "Text: In 2009 , Lee & Man had a combined annual production capacity of close to 4.5 million tonnes of paper and 300,000 tonnes of pulp .\n",
      "True: neutral\n",
      "Predicted: neutral\n",
      "\n",
      "Text: `` That 's a very high figure on the European scale , '' Noop said , recalling however that this also includes beer bought by Finnish tourists .\n",
      "True: neutral\n",
      "Predicted: neutral\n",
      "\n",
      "Text: In Finland , the corresponding service is Alma Media 's Etuovi.com , Finland 's most popular and best known nationwide online service for home and property sales .\n",
      "True: neutral\n",
      "Predicted: neutral\n",
      "\n"
     ]
    }
   ],
   "source": [
    "sample_df = data.sample(5, random_state=42)\n",
    "for text in sample_df[\"Text\"]:\n",
    "    print(f\"Text: {text}\")\n",
    "    print(f\"True: {sample_df[sample_df['Text']==text]['Sentiment'].values[0]}\")\n",
    "    pred = finbert_label = preds[X.index(text)]\n",
    "    print(f\"Predicted: {pred}\\n\")\n"
   ]
  },
  {
   "cell_type": "code",
   "execution_count": null,
   "metadata": {
    "id": "rDS5sFP2O_zk"
   },
   "outputs": [],
   "source": []
  }
 ],
 "metadata": {
  "colab": {
   "provenance": []
  },
  "kaggle": {
   "accelerator": "none",
   "dataSources": [
    {
     "datasetId": 622510,
     "sourceId": 1192499,
     "sourceType": "datasetVersion"
    }
   ],
   "dockerImageVersionId": 30587,
   "isGpuEnabled": false,
   "isInternetEnabled": true,
   "language": "python",
   "sourceType": "notebook"
  },
  "kernelspec": {
   "display_name": "Python 3",
   "language": "python",
   "name": "python3"
  },
  "language_info": {
   "codemirror_mode": {
    "name": "ipython",
    "version": 3
   },
   "file_extension": ".py",
   "mimetype": "text/x-python",
   "name": "python",
   "nbconvert_exporter": "python",
   "pygments_lexer": "ipython3",
   "version": "3.10.12"
  }
 },
 "nbformat": 4,
 "nbformat_minor": 0
}
